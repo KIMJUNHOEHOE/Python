{
 "cells": [
  {
   "cell_type": "markdown",
   "metadata": {},
   "source": [
    "### Selenium WebDriver\n",
    ">  \n",
    "- BeautifulSopu 패키지만을 사용하여 크롤링을 할 경우, 모든 웹페이지의 데이터들을 가져오는 것은 아니다.\n",
    "- 예를들어, 비동기적으로 뒤늦게 웹페이지의 정보를 업데이트하는 경우와 로그인이나 특정권한을 요구하는 웹페이지의 경우가 그럴것이다.\n",
    "- 이때 필요로 하는 패키지가 바로 셀레늄(Selenium)이며, 별도의 webdriver라는 API를 통해 운영체제에 설치된 브라우저를 제어할 수 있다.\n",
    "- 즉, 셀레늄을 사용하면 웹페이지상에서 눈에 보이는 모든 데이터를 가져올 수 있다.\n",
    "- 참조 : http://www.seleniumhq.org/projects/webdriver/\n",
    "- 용도 : 해킹, TEST, 크롤링"
   ]
  },
  {
   "cell_type": "code",
   "execution_count": 1,
   "metadata": {},
   "outputs": [],
   "source": [
    "from bs4 import BeautifulSoup\n",
    "from selenium import webdriver\n",
    "from IPython.display import Image"
   ]
  },
  {
   "cell_type": "code",
   "execution_count": 11,
   "metadata": {},
   "outputs": [],
   "source": [
    "# 웹드라이브로 크롬브라우즈 띄운다.\n",
    "driver_path = './chromedriver.exe'\n",
    "driver = webdriver.Chrome(executable_path = driver_path)"
   ]
  },
  {
   "cell_type": "code",
   "execution_count": 12,
   "metadata": {},
   "outputs": [],
   "source": [
    "# 네이버영화, 리뷰페이지로 이동\n",
    "url_page = 'http://movie.naver.com/movie/bi/mi/review.nhn?code=163533'\n",
    "driver.get(url_page)"
   ]
  },
  {
   "cell_type": "code",
   "execution_count": 13,
   "metadata": {},
   "outputs": [],
   "source": [
    "html = driver.page_source\n",
    "soup = BeautifulSoup(html, \"lxml\")\n",
    "# soup"
   ]
  },
  {
   "cell_type": "code",
   "execution_count": 14,
   "metadata": {},
   "outputs": [
    {
     "data": {
      "text/plain": [
       "<span class=\"cnt\">총<em>555</em>건</span>"
      ]
     },
     "execution_count": 14,
     "metadata": {},
     "output_type": "execute_result"
    }
   ],
   "source": [
    "review_cnt = soup.find(\"span\",class_ = \"cnt\")\n",
    "review_cnt"
   ]
  },
  {
   "cell_type": "code",
   "execution_count": 16,
   "metadata": {},
   "outputs": [
    {
     "data": {
      "text/plain": [
       "'555'"
      ]
     },
     "execution_count": 16,
     "metadata": {},
     "output_type": "execute_result"
    }
   ],
   "source": [
    "review_cnt2 = review_cnt.find(\"em\").get_text()\n",
    "review_cnt2"
   ]
  },
  {
   "cell_type": "code",
   "execution_count": 17,
   "metadata": {},
   "outputs": [
    {
     "data": {
      "text/plain": [
       "555"
      ]
     },
     "execution_count": 17,
     "metadata": {},
     "output_type": "execute_result"
    }
   ],
   "source": [
    "review_cnt_total = int(review_cnt2.replace(',', ''))\n",
    "review_cnt_total"
   ]
  },
  {
   "cell_type": "code",
   "execution_count": 18,
   "metadata": {},
   "outputs": [
    {
     "data": {
      "text/plain": [
       "56"
      ]
     },
     "execution_count": 18,
     "metadata": {},
     "output_type": "execute_result"
    }
   ],
   "source": [
    "last_page = review_cnt_total//10 + 1\n",
    "last_page"
   ]
  },
  {
   "cell_type": "code",
   "execution_count": 19,
   "metadata": {},
   "outputs": [
    {
     "data": {
      "text/plain": [
       "'네이버영화 1987의 리뷰수는 총 555건이며, 마지막 페이지는 56 입니다.'"
      ]
     },
     "execution_count": 19,
     "metadata": {},
     "output_type": "execute_result"
    }
   ],
   "source": [
    "\"네이버영화 1987의 리뷰수는 총 {}건이며, 마지막 페이지는 {} 입니다.\".format(review_cnt_total, last_page)"
   ]
  },
  {
   "cell_type": "markdown",
   "metadata": {},
   "source": [
    "### 스타벅스 크롤링"
   ]
  },
  {
   "cell_type": "code",
   "execution_count": 20,
   "metadata": {},
   "outputs": [],
   "source": [
    "from selenium import webdriver as wd\n",
    "from bs4 import BeautifulSoup as bs\n",
    "\n",
    "from selenium.webdriver.common.by import By\n",
    "\n",
    "# 명시적 대기를 위해\n",
    "from selenium.webdriver.support.ui import WebDriverWait\n",
    "from selenium.webdriver.support import expected_conditions as EC\n",
    "\n",
    "import numpy as np\n",
    "import pandas as pd\n",
    "import time\n",
    "import sys"
   ]
  },
  {
   "cell_type": "code",
   "execution_count": 21,
   "metadata": {},
   "outputs": [],
   "source": [
    "# 사전에 필요한 정보를 로드 => DB 혹은 Shell, Batch File에서 인자로 받아서 셋팅\n",
    "main_url = 'http://www.istarbucks.co.kr/store/index.do'\n",
    "keyword  = '서울'"
   ]
  },
  {
   "cell_type": "code",
   "execution_count": 22,
   "metadata": {},
   "outputs": [],
   "source": [
    "# 매장 정보\n",
    "store_list = []"
   ]
  },
  {
   "cell_type": "markdown",
   "metadata": {},
   "source": [
    "### WebDriver 로드\n",
    ">  \n",
    "- 셀레니움이 하는 일은 사림이 하는일과 최대한 유사하게 동작하도록 작업\n",
    "- 차후 -> 옵션 부여하여 (프록시, 에이전트 조작, 이미지를 배제)\n",
    "- 크롤링을 오래 돌리면 => 임시파일들이 쌓인다!!\n",
    "- 1주일정도 돌리다보면 느껴진다. Temp에 막 쌓이므로 -> Temp 파일 삭제"
   ]
  },
  {
   "cell_type": "code",
   "execution_count": 23,
   "metadata": {},
   "outputs": [],
   "source": [
    "driver = wd.Chrome(executable_path = './chromedriver.exe')"
   ]
  },
  {
   "cell_type": "code",
   "execution_count": 34,
   "metadata": {},
   "outputs": [],
   "source": [
    "# 사이트 접속 (get) : 셀레니움이 하는 일은 사림이 하는일과 최대한 유사하게 동작하도록 작업\n",
    "time.sleep(2)\n",
    "driver.get(main_url)\n",
    "\n",
    "# driver.find_element_by_css_selector('').click()"
   ]
  },
  {
   "cell_type": "code",
   "execution_count": 36,
   "metadata": {},
   "outputs": [],
   "source": [
    "# 매장찾기 버튼을 클릭, Copy selector , #container : id가 container일 때\n",
    "# https://saucelabs.com/resources/articles/selenium-tips-css-selectors\n",
    "# css_selecter에 대해서 더 찾고 싶을 때\n",
    "time.sleep(1)\n",
    "driver.find_element_by_css_selector('div #container > section.store_bn1_section > article > div.store_bn1_btn >  a').click()"
   ]
  },
  {
   "cell_type": "code",
   "execution_count": null,
   "metadata": {},
   "outputs": [],
   "source": [
    "# 퀵검색에서 키워드 입력\n",
    "# driver.find_element_by_id('quickSearchText').send_keys(keyword)\n",
    "# driver.find_element_by_css_selector('#container > div > form > fieldset > div > section > article.find_store_cont > article > article:nth-child(2) > div.quick_search_input > div > a').click()"
   ]
  }
 ],
 "metadata": {
  "kernelspec": {
   "display_name": "Python 3",
   "language": "python",
   "name": "python3"
  },
  "language_info": {
   "codemirror_mode": {
    "name": "ipython",
    "version": 3
   },
   "file_extension": ".py",
   "mimetype": "text/x-python",
   "name": "python",
   "nbconvert_exporter": "python",
   "pygments_lexer": "ipython3",
   "version": "3.7.0"
  }
 },
 "nbformat": 4,
 "nbformat_minor": 2
}
