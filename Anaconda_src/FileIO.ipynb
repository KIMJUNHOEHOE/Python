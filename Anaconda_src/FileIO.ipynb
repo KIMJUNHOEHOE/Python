{
 "cells": [
  {
   "cell_type": "code",
   "execution_count": 1,
   "metadata": {},
   "outputs": [],
   "source": [
    "fp = open('./data/hello.txt','r')"
   ]
  },
  {
   "cell_type": "code",
   "execution_count": 2,
   "metadata": {},
   "outputs": [
    {
     "data": {
      "text/plain": [
       "'C:\\\\Users\\\\user\\\\Anaconda_src'"
      ]
     },
     "execution_count": 2,
     "metadata": {},
     "output_type": "execute_result"
    }
   ],
   "source": [
    "% pwd"
   ]
  },
  {
   "cell_type": "code",
   "execution_count": 3,
   "metadata": {},
   "outputs": [
    {
     "name": "stdout",
     "output_type": "stream",
     "text": [
      " C 드라이브의 볼륨: Windows\n",
      " 볼륨 일련 번호: F034-C999\n",
      "\n",
      " C:\\Users\\user\\Anaconda_src\\data 디렉터리\n",
      "\n",
      "2018-10-17  오전 10:06    <DIR>          .\n",
      "2018-10-17  오전 10:06    <DIR>          ..\n",
      "2018-10-17  오전 09:40    <DIR>          .ipynb_checkpoints\n",
      "2018-10-17  오전 10:06               310 company.csv\n",
      "2018-10-17  오전 09:41                20 hello.txt\n",
      "2018-10-17  오전 10:05               151 students.csv\n",
      "2018-10-17  오전 09:46                29 subject.txt\n",
      "               4개 파일                 510 바이트\n",
      "               3개 디렉터리  125,325,860,864 바이트 남음\n"
     ]
    }
   ],
   "source": [
    "% ls data"
   ]
  },
  {
   "cell_type": "code",
   "execution_count": 4,
   "metadata": {},
   "outputs": [
    {
     "data": {
      "text/plain": [
       "'Hello, Jupter World!'"
      ]
     },
     "execution_count": 4,
     "metadata": {},
     "output_type": "execute_result"
    }
   ],
   "source": [
    "fp.read()"
   ]
  },
  {
   "cell_type": "code",
   "execution_count": 5,
   "metadata": {},
   "outputs": [],
   "source": [
    "fp.close()"
   ]
  },
  {
   "cell_type": "markdown",
   "metadata": {},
   "source": [
    "with 문은 하나의 블록처럼 사용. with문은 close 자동 해줌"
   ]
  },
  {
   "cell_type": "code",
   "execution_count": 6,
   "metadata": {
    "scrolled": true
   },
   "outputs": [
    {
     "name": "stdout",
     "output_type": "stream",
     "text": [
      "Hello, Jupter World!\n"
     ]
    }
   ],
   "source": [
    "with open('./data/hello.txt', 'r') as fp :\n",
    "    data = fp.read()\n",
    "    print(data)"
   ]
  },
  {
   "cell_type": "code",
   "execution_count": 7,
   "metadata": {},
   "outputs": [],
   "source": [
    "with open('./data/subject.txt','w') as fp:\n",
    "    data = '파이썬을 이용한 데이터 분석!!'\n",
    "    fp.write(data)"
   ]
  },
  {
   "cell_type": "code",
   "execution_count": 8,
   "metadata": {},
   "outputs": [
    {
     "name": "stdout",
     "output_type": "stream",
     "text": [
      "파이썬을 이용한 데이터 분석!!\n"
     ]
    }
   ],
   "source": [
    "with open('./data/subject.txt','r') as fp:\n",
    "    data = fp.read()\n",
    "    print(data)"
   ]
  },
  {
   "cell_type": "markdown",
   "metadata": {},
   "source": [
    "### csv 파일 읽어는 함수 정의"
   ]
  },
  {
   "cell_type": "code",
   "execution_count": 9,
   "metadata": {},
   "outputs": [],
   "source": [
    "def read_csv(filepath):\n",
    "    \n",
    "    fp = open(filepath, 'r', encoding='utf-8')\n",
    "    data = fp.read()\n",
    "    fp.close()\n",
    "    \n",
    "    # return data\n",
    "    elements = []\n",
    "    \n",
    "    rows = data.split(\"\\n\")\n",
    "    # print(rows)\n",
    "    for row in rows:        \n",
    "        \n",
    "        fields = row.split(\",\")\n",
    "        # print(fields)\n",
    "        \n",
    "        element = {   \n",
    "            \"name\"   : fields[0],\n",
    "            \"school\" : fields[1],\n",
    "            \"email\"  : fields[2]\n",
    "        }\n",
    "        elements.append(element)\n",
    "    return elements"
   ]
  },
  {
   "cell_type": "code",
   "execution_count": 10,
   "metadata": {},
   "outputs": [
    {
     "data": {
      "text/plain": [
       "[{'name': '김태희', 'school': '서울대', 'email': 'thkim@gmail.com '},\n",
       " {'name': '신민아', 'school': '성균관대', 'email': 'sma@gmial.com '},\n",
       " {'name': '전지현', 'school': '중앙대', 'email': 'jhjeon@gmail.com '},\n",
       " {'name': '이영애', 'school': '숭실대', 'email': 'janggumi@gamil.com'}]"
      ]
     },
     "execution_count": 10,
     "metadata": {},
     "output_type": "execute_result"
    }
   ],
   "source": [
    "filepath = 'data/students.csv'\n",
    "read_csv(filepath)"
   ]
  },
  {
   "cell_type": "markdown",
   "metadata": {},
   "source": [
    "### 헤더가 있는 csv 파일 읽어오기"
   ]
  },
  {
   "cell_type": "code",
   "execution_count": 14,
   "metadata": {},
   "outputs": [],
   "source": [
    "def read_csv(filepath):         # 어떤 헤더가 있는 CSV 파일이든지 읽을 수 있는 함수\n",
    "                                # \",\" 말고 다른 어떤 seperator 가 들어가더라도, \n",
    "                                # CSV 읽을 수 있는 함수\n",
    "                                # \"\\t\", \"::\", \"|\" 이 모든 sep 에 대한 함수!\n",
    "    fp = open(filepath, 'r', encoding='utf-8')\n",
    "    data = fp.read()\n",
    "    fp.close()\n",
    "    \n",
    "    elements = []\n",
    "    \n",
    "    rows = data.split(\"\\n\")\n",
    "    columns = rows[0].split(\",\")    # [\"랭킹\", \"회사이름\", \"영문명\", \"창업자\"]\n",
    "    columns = [key.replace(' ','') for key in columns] # 공백 하나 들어가 있음\n",
    "    # print(columns)\n",
    "    \n",
    "    for row in rows[1:]:\n",
    "        fields = row.split(\",\")\n",
    "        element = {}\n",
    "        \n",
    "        if len(fields) != len(columns): # 해당 자료가 모든 컬럼에 대해 값이 없을 경우 무시\n",
    "            continue\n",
    "        \n",
    "        for idx in range(len(columns)):   # index 의 값으로 비교해야 한다.\n",
    "            column = columns[idx]\n",
    "            field = fields[idx]\n",
    "            element[column] = field\n",
    "        \n",
    "        elements.append(element)\n",
    "    return elements"
   ]
  },
  {
   "cell_type": "code",
   "execution_count": 15,
   "metadata": {},
   "outputs": [
    {
     "name": "stdout",
     "output_type": "stream",
     "text": [
      "['랭킹', '회사이름', '영문명', '창업자']\n"
     ]
    },
    {
     "data": {
      "text/plain": [
       "[{'랭킹': '1', '회사이름': ' 애플', '영문명': ' Apple', '창업자': ' 스티브잡스 '},\n",
       " {'랭킹': '2', '회사이름': ' 구글', '영문명': ' Google', '창업자': ' 세르게이브린 & 레리페이지 '},\n",
       " {'랭킹': '3', '회사이름': ' 마이크로소프트', '영문명': ' Microsoft', '창업자': ' 빌게이츠 & 폴앨런 '},\n",
       " {'랭킹': '4', '회사이름': ' 페이스북', '영문명': ' Facebook', '창업자': ' 마크쥬크버그 '},\n",
       " {'랭킹': '5', '회사이름': ' 에어비엔비', '영문명': ' Airbnb', '창업자': ' 브라이언체크키 & 조게비어'}]"
      ]
     },
     "execution_count": 15,
     "metadata": {},
     "output_type": "execute_result"
    }
   ],
   "source": [
    "filepath = './data/company.csv'\n",
    "read_csv(filepath)"
   ]
  },
  {
   "cell_type": "code",
   "execution_count": null,
   "metadata": {},
   "outputs": [],
   "source": []
  }
 ],
 "metadata": {
  "kernelspec": {
   "display_name": "Python 3",
   "language": "python",
   "name": "python3"
  },
  "language_info": {
   "codemirror_mode": {
    "name": "ipython",
    "version": 3
   },
   "file_extension": ".py",
   "mimetype": "text/x-python",
   "name": "python",
   "nbconvert_exporter": "python",
   "pygments_lexer": "ipython3",
   "version": "3.7.0"
  }
 },
 "nbformat": 4,
 "nbformat_minor": 2
}
