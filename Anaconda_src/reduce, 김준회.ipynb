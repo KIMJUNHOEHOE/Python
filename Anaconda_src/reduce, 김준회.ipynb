{
 "cells": [
  {
   "cell_type": "code",
   "execution_count": 4,
   "metadata": {},
   "outputs": [],
   "source": [
    "from functools import *"
   ]
  },
  {
   "cell_type": "code",
   "execution_count": 5,
   "metadata": {},
   "outputs": [],
   "source": [
    "data = [\"cat\", \"cat\", \"cat\", \"sheep\", \"sheep\", \"duck\", \"duck\", \"duck\", \"duck\" ]"
   ]
  },
  {
   "cell_type": "code",
   "execution_count": 6,
   "metadata": {},
   "outputs": [
    {
     "name": "stdout",
     "output_type": "stream",
     "text": [
      "cat\t ===\n",
      "sheep\t ==\n",
      "duck\t ====\n"
     ]
    }
   ],
   "source": [
    "def counting(result_dict,a):\n",
    "#     print(result_dict,a)\n",
    "    if a in list(result_dict.keys()):\n",
    "        result_dict[a] += 1\n",
    "    else :\n",
    "        result_dict[a] = 1\n",
    "    return result_dict\n",
    "\n",
    "result = reduce(\n",
    "    counting,\n",
    "    data,\n",
    "    {}\n",
    ")\n",
    "\n",
    "for k,v in result.items():\n",
    "    print(\"{}\\t {}\".format(k,v*'='))"
   ]
  },
  {
   "cell_type": "code",
   "execution_count": 7,
   "metadata": {
    "scrolled": true
   },
   "outputs": [
    {
     "name": "stdout",
     "output_type": "stream",
     "text": [
      "cat\t ===\n",
      "sheep\t ==\n",
      "duck\t ====\n"
     ]
    }
   ],
   "source": [
    "def get_histogram(data):  \n",
    "    for k,v in reduce(counting,data,{}).items():\n",
    "        print(\"{}\\t {}\".format(k,v*'='))\n",
    "\n",
    "get_histogram(data)"
   ]
  }
 ],
 "metadata": {
  "kernelspec": {
   "display_name": "Python 3",
   "language": "python",
   "name": "python3"
  },
  "language_info": {
   "codemirror_mode": {
    "name": "ipython",
    "version": 3
   },
   "file_extension": ".py",
   "mimetype": "text/x-python",
   "name": "python",
   "nbconvert_exporter": "python",
   "pygments_lexer": "ipython3",
   "version": "3.7.0"
  }
 },
 "nbformat": 4,
 "nbformat_minor": 2
}
